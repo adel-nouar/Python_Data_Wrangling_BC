{
 "cells": [
  {
   "cell_type": "code",
   "execution_count": 1,
   "source": [
    "#######################################################\n",
    "#######################################################\n",
    "############    COPYRIGHT - DATA SOCIETY   ############\n",
    "#######################################################\n",
    "#######################################################\n",
    "\n",
    "## DAY 1 DATA WRANGLING WITH PYTHON/DAY 1 DATA WRANGLING WITH PYTHON ##\n",
    "\n",
    "## NOTE: To run individual pieces of code, select the line of code and\n",
    "##       press ctrl + enter for PCs or command + enter for Macs"
   ],
   "outputs": [],
   "metadata": {}
  },
  {
   "cell_type": "code",
   "execution_count": 2,
   "source": [
    "#=================================================-\n",
    "#### Slide 27: Refresh on basic coding in Python  ####\n",
    "\n",
    "# Store variables.\n",
    "name = 'Mike'\n",
    "a, b, c = 1, 2, 3\n",
    "\n",
    "# Print a variable out.\n",
    "print(a)\n",
    "# Swap variable values.\n",
    "a, b = b, a\n",
    "\n",
    "# Delete a variable.\n",
    "del a\n",
    "# Slice a string\n",
    "letters = 'ABCDEFGH'\n",
    "print(letters[2:5])\n",
    "# Length of a string\n",
    "print(len(letters))\n",
    "print(type(letters))"
   ],
   "outputs": [
    {
     "output_type": "stream",
     "name": "stdout",
     "text": [
      "1\n",
      "CDE\n",
      "8\n",
      "<class 'str'>\n"
     ]
    }
   ],
   "metadata": {}
  },
  {
   "cell_type": "code",
   "execution_count": 3,
   "source": [
    "#=================================================-\n",
    "#### Slide 31: User-defined functions in Python  ####\n",
    "\n",
    "# Define a function that prints the value of `Pi`. \n",
    "def PrintPi():     #<- function name\n",
    "    print(3.14)    #<- action to perform\n",
    "PrintPi()"
   ],
   "outputs": [
    {
     "output_type": "stream",
     "name": "stdout",
     "text": [
      "3.14\n"
     ]
    }
   ],
   "metadata": {}
  },
  {
   "cell_type": "code",
   "execution_count": 4,
   "source": [
    "#=================================================-\n",
    "#### Slide 32: Functions in Python with 1 or more arguments  ####\n",
    "\n",
    "# Define a function that prints the value of `Pi`\n",
    "# and takes a number of decimal points to which we want to round the number.\n",
    "def PrintPi(num_decimals):               #<- function name + argument(s)\n",
    "    pi = 3.14159265359                   #<- action to perform\n",
    "    rounded_pi = round(pi, num_decimals) #<- action to perform\n",
    "    print(rounded_pi)                    #<- action to perform\n",
    "    \n",
    "# Print value of pi rounded to 4 decimal points.\n",
    "PrintPi(4)"
   ],
   "outputs": [
    {
     "output_type": "stream",
     "name": "stdout",
     "text": [
      "3.1416\n"
     ]
    }
   ],
   "metadata": {}
  },
  {
   "cell_type": "code",
   "execution_count": 5,
   "source": [
    "#=================================================-\n",
    "#### Slide 33: Functions in Python that return a value  ####\n",
    "\n",
    "# Define a function that prints the value of `Pi`,\n",
    "# takes a number of decimal points to which we want to round the number,\n",
    "# and returns the value back to us.\n",
    "def GetPi(num_decimals):                 #<- function name + argument(s)\n",
    "    pi = 3.14159265359                   #<- action to perform\n",
    "    rounded_pi = round(pi, num_decimals) #<- action to perform\n",
    "    return rounded_pi                    #<- value to return"
   ],
   "outputs": [],
   "metadata": {}
  },
  {
   "cell_type": "code",
   "execution_count": 6,
   "source": [
    "#=================================================-\n",
    "#### Slide 34: Functions in Python that return a value (cont'd)  ####\n",
    "\n",
    "# Return a value of pi rounded to 4 decimal points.\n",
    "print(GetPi(4)) \n",
    "\n",
    "# Return a value of pi rounded to 4 decimal points.\n",
    "# Assign it to a variable.\n",
    "pi_4 = GetPi(4)\n",
    "print(pi_4)"
   ],
   "outputs": [
    {
     "output_type": "stream",
     "name": "stdout",
     "text": [
      "3.1416\n",
      "3.1416\n"
     ]
    }
   ],
   "metadata": {}
  },
  {
   "cell_type": "code",
   "execution_count": 7,
   "source": [
    "#=================================================-\n",
    "#### Slide 36: Functions in Python: MakeFullName  ####\n",
    "\n",
    "# Define a function that concatenates \n",
    "# first and last names.\n",
    "def MakeFullName(first_name, last_name):\n",
    "    full_name = first_name + ' ' + last_name\n",
    "    return full_name"
   ],
   "outputs": [],
   "metadata": {}
  },
  {
   "cell_type": "code",
   "execution_count": 8,
   "source": [
    "#=================================================-\n",
    "#### Slide 37: Functions in Python: calling a function  ####\n",
    "\n",
    "# Call the function.\n",
    "print(MakeFullName(\"Harry\", \"Potter\"))\n",
    "# Call the function and save \n",
    "# output to variable.\n",
    "output_name = MakeFullName(\"Harry\", \"Potter\")\n",
    "print(output_name)"
   ],
   "outputs": [
    {
     "output_type": "stream",
     "name": "stdout",
     "text": [
      "Harry Potter\n",
      "Harry Potter\n"
     ]
    }
   ],
   "metadata": {}
  },
  {
   "cell_type": "code",
   "execution_count": 9,
   "source": [
    "#=================================================-\n",
    "#### Slide 38: Functions in Python: EvaluateCarPrice  ####\n",
    "\n",
    "def EvaluateCarPrice(price):\n",
    "    if price > 38000:\n",
    "        action = \"Leave the dealership immediately, this is a rip off!\"\n",
    "    elif price > 22000 and price <= 38000 :\n",
    "        action = \"Take the car and go celebrate, you can afford it!\"\n",
    "    else:\n",
    "        action = \"Leave the dealership immediately, this is a scam!\"\n",
    "    return action"
   ],
   "outputs": [],
   "metadata": {}
  },
  {
   "cell_type": "code",
   "execution_count": 10,
   "source": [
    "#=================================================-\n",
    "#### Slide 39: Functions in Python: calling a function  ####\n",
    "\n",
    "# Let's set the price of a car to $45,000.\n",
    "price = 45000\n",
    "action1 = EvaluateCarPrice(price)\n",
    "print(action1)\n",
    "\n",
    "# Let's set the price of a car to $32,000.\n",
    "price = 32000\n",
    "action2 = EvaluateCarPrice(price)\n",
    "print(action2)\n",
    "\n",
    "# Let's set the price of a car to $5,000.\n",
    "price = 5000\n",
    "action3 = EvaluateCarPrice(price)\n",
    "print(action3)"
   ],
   "outputs": [
    {
     "output_type": "stream",
     "name": "stdout",
     "text": [
      "Leave the dealership immediately, this is a rip off!\n",
      "Take the car and go celebrate, you can afford it!\n",
      "Leave the dealership immediately, this is a scam!\n"
     ]
    }
   ],
   "metadata": {}
  },
  {
   "cell_type": "code",
   "execution_count": 11,
   "source": [
    "#=================================================-\n",
    "#### Slide 40: Functions that return two or more values  ####\n",
    "\n",
    "def MostProfitableMonth(sales_data):\n",
    "\n",
    "    biggest_amt = 0\n",
    "    biggest_month = None\n",
    "    \n",
    "    for month, amt in sales_data.items():\n",
    "        if amt >= biggest_amt:\n",
    "            biggest_amt = amt\n",
    "            biggest_month = month\n",
    "            \n",
    "    return (biggest_month, biggest_amt) "
   ],
   "outputs": [],
   "metadata": {}
  },
  {
   "cell_type": "code",
   "execution_count": 12,
   "source": [
    "#=================================================-\n",
    "#### Slide 41: Functions that return two or more values (cont'd)  ####\n",
    "\n",
    "# Let's define a dictionary with sales data.\n",
    "year_sales = {'January': 1045, 'February': 1008, 'March': 1025, \n",
    "                    'April': 1080, 'May': 1100, 'June': 1050, 'July': 1050,\n",
    "                    'August': 950, 'September': 1010, 'October': 1500, \n",
    "                    'November': 1450, 'December': 1380}\n",
    "# Assign output of function to variables in correct order.\n",
    "best_sales_month, best_sales_amt = MostProfitableMonth(year_sales)\n",
    "print(\"Best month:\", best_sales_month)\n",
    "print(\"Best amount:\", best_sales_amt)"
   ],
   "outputs": [
    {
     "output_type": "stream",
     "name": "stdout",
     "text": [
      "Best month: October\n",
      "Best amount: 1500\n"
     ]
    }
   ],
   "metadata": {}
  },
  {
   "cell_type": "code",
   "execution_count": 13,
   "source": [
    "#=================================================-\n",
    "#### Slide 42: Passing a list as an argument  ####\n",
    "\n",
    "# Define a function that returns the length of all character strings in a list.\n",
    "def calculate_lengths(list_of_strings):\n",
    "  # Define an empty list to store the result.\n",
    "  lengths = []\n",
    "  # Use a for loop to access items in the input list.\n",
    "  for item in list_of_strings:\n",
    "    lengths.append(len(item))\n",
    "  \n",
    "  return lengths\n",
    "result = calculate_lengths([\"Monday\", \"Tuesday\", \"Saturday\"])\n",
    "print(result)"
   ],
   "outputs": [
    {
     "output_type": "stream",
     "name": "stdout",
     "text": [
      "[6, 7, 8]\n"
     ]
    }
   ],
   "metadata": {}
  },
  {
   "cell_type": "code",
   "execution_count": 20,
   "source": [
    "# Preview of List Comp...\n",
    "list_of_days = ['Monday', 'Tuesday', 'Wednesday', 'Thursday', 'Friday', 'Saturday', 'Sunday']\n",
    "[len(i) for i in list_of_days]"
   ],
   "outputs": [
    {
     "output_type": "execute_result",
     "data": {
      "text/plain": [
       "[6, 7, 9, 8, 6, 8, 6]"
      ]
     },
     "metadata": {},
     "execution_count": 20
    }
   ],
   "metadata": {}
  },
  {
   "cell_type": "code",
   "execution_count": 21,
   "source": [
    "#=================================================-\n",
    "#### Slide 43: Functions that have default arguments  ####\n",
    "\n",
    "def MostProfitableMonth(sales_data, verbose = True):\n",
    "\n",
    "    biggest_amt = 0\n",
    "    biggest_month = None\n",
    "    \n",
    "    for month, amt in sales_data.items():\n",
    "        if amt >= biggest_amt:\n",
    "            biggest_amt = amt\n",
    "            biggest_month = month\n",
    "            \n",
    "    if verbose:\n",
    "        print('The best sales month was', biggest_month, 'with amount sold equal to', biggest_amt)\n",
    "        \n",
    "    return (biggest_month, biggest_amt) "
   ],
   "outputs": [],
   "metadata": {}
  },
  {
   "cell_type": "code",
   "execution_count": 23,
   "source": [
    "MostProfitableMonth(year_sales, verbose=False)"
   ],
   "outputs": [
    {
     "output_type": "execute_result",
     "data": {
      "text/plain": [
       "('October', 1500)"
      ]
     },
     "metadata": {},
     "execution_count": 23
    }
   ],
   "metadata": {}
  },
  {
   "cell_type": "code",
   "execution_count": 15,
   "source": [
    "#=================================================-\n",
    "#### Slide 44: Functions that have default arguments (cont'd)  ####\n",
    "\n",
    "# Assign output of function to variables in correct order.\n",
    "best_sales_month, best_sales_amt = MostProfitableMonth(year_sales)\n",
    "# Assign output of function to variables in correct order.\n",
    "best_sales_month, best_sales_amt = MostProfitableMonth(year_sales, False)\n",
    "print(\"Best month:\", best_sales_month, \"Best amount:\", best_sales_amt)"
   ],
   "outputs": [
    {
     "output_type": "stream",
     "name": "stdout",
     "text": [
      "The best sales month was October with amount sold equal to 1500\n",
      "Best month: October Best amount: 1500\n"
     ]
    }
   ],
   "metadata": {}
  },
  {
   "cell_type": "code",
   "execution_count": 19,
   "source": [],
   "outputs": [
    {
     "output_type": "execute_result",
     "data": {
      "text/plain": [
       "[6, 7, 9, 8, 6, 8, 6]"
      ]
     },
     "metadata": {},
     "execution_count": 19
    }
   ],
   "metadata": {}
  },
  {
   "cell_type": "code",
   "execution_count": 16,
   "source": [
    "#=================================================-\n",
    "#### Slide 46: Anonymous functions: Syntax  ####\n",
    "\n",
    "print((lambda v: v + \" the 5th of November!\")(\"Remember\"))"
   ],
   "outputs": [
    {
     "output_type": "stream",
     "name": "stdout",
     "text": [
      "Remember the 5th of November!\n"
     ]
    }
   ],
   "metadata": {}
  },
  {
   "cell_type": "code",
   "execution_count": 17,
   "source": [
    "#=================================================-\n",
    "#### Slide 47: Anonymous functions with multiple arguments  ####\n",
    "\n",
    "remember = lambda v: v + \" the 5th of November!\"\n",
    "print(remember(\"Remember\"))\n",
    "y = lambda a, b: a + b\n",
    "print(y(765, -987))"
   ],
   "outputs": [
    {
     "output_type": "stream",
     "name": "stdout",
     "text": [
      "Remember the 5th of November!\n",
      "-222\n"
     ]
    }
   ],
   "metadata": {}
  },
  {
   "cell_type": "code",
   "execution_count": 24,
   "source": [
    "#=================================================-\n",
    "#### Slide 48: Function within another function  ####\n",
    "\n",
    "# Define a function to check if a number is even or odd.\n",
    "def even_odd(num):\n",
    "  if num%2 == 0:           #<- % is the Modulo operator.\n",
    "    result = \"Even\"\n",
    "  else:\n",
    "    result = \"Odd\"\n",
    "  return result\n",
    "# Define a function to print if each element of a list is even or odd.\n",
    "def even_odd_list(numbers):\n",
    "  for num in numbers:\n",
    "    result = even_odd(num)   #<- Call function on num an assign its result\n",
    "    print(num, \": \", result)\n",
    "\n",
    "even_odd_list([22,41,16,13])"
   ],
   "outputs": [
    {
     "output_type": "stream",
     "name": "stdout",
     "text": [
      "22 :  Even\n",
      "41 :  Odd\n",
      "16 :  Even\n",
      "13 :  Odd\n"
     ]
    }
   ],
   "metadata": {}
  }
 ],
 "metadata": {
  "language": "python",
  "language_info": {
   "name": "python",
   "version": "3.9.7",
   "mimetype": "text/x-python",
   "codemirror_mode": {
    "name": "ipython",
    "version": 3
   },
   "pygments_lexer": "ipython3",
   "nbconvert_exporter": "python",
   "file_extension": ".py"
  },
  "kernelspec": {
   "name": "python3",
   "display_name": "Python 3.8.10 64-bit"
  },
  "interpreter": {
   "hash": "7baa2613bd81bb075eec3c961d438573e3cd8a0504fd498db51a3642c787a45e"
  }
 },
 "nbformat": 4,
 "nbformat_minor": 5
}