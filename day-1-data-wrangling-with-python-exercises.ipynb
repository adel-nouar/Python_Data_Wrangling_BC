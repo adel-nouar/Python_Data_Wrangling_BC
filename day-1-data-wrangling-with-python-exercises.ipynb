{
 "cells": [
  {
   "cell_type": "markdown",
   "source": [
    "# Day 1 - Data wrangling with Python - Exercises"
   ],
   "metadata": {}
  },
  {
   "cell_type": "markdown",
   "source": [
    "## Exercise 1\n",
    "\n",
    "#### Question 1\n",
    "##### Assign variable `x` as your age and variable `y` as your neighbor's age.\n",
    "##### Print `x` and `y`. \n",
    "##### Now swap `x` and `y` and print the result.\n",
    "\n",
    "#### Answer:"
   ],
   "metadata": {}
  },
  {
   "cell_type": "code",
   "execution_count": 1,
   "source": [
    "x = 42\n",
    "y = 44\n",
    "print(\"x:\", x, \"y:\", y)\n",
    "x, y = y, x\n",
    "print(\"x:\", x, \"y:\", y)"
   ],
   "outputs": [
    {
     "output_type": "stream",
     "name": "stdout",
     "text": [
      "x: 42 y: 44\n",
      "x: 44 y: 42\n"
     ]
    }
   ],
   "metadata": {}
  },
  {
   "cell_type": "markdown",
   "source": [
    "#### Question 2\n",
    "##### Create a variable `numbers` with values 12345 as a string\n",
    "##### Print the first and last elements in `numbers`\n",
    "##### Print the length of the `numbers`.\n",
    "##### Convert the type of `numbers` to integer\n",
    "##### Print the type to verify your answer\n",
    "\n",
    "#### Answer:"
   ],
   "metadata": {}
  },
  {
   "cell_type": "code",
   "execution_count": 4,
   "source": [
    "numbers = \"12345\"\n",
    "print(\"The first element is:\",numbers[0], \"\\nThe last element is:\", numbers[-1])\n",
    "print(f'length of number: {len(numbers)}')\n",
    "numbers = int(numbers)\n",
    "type(numbers)"
   ],
   "outputs": [
    {
     "output_type": "stream",
     "name": "stdout",
     "text": [
      "The first element is: 1 \n",
      "The last element is: 5\n",
      "length of number: 5\n"
     ]
    },
    {
     "output_type": "execute_result",
     "data": {
      "text/plain": [
       "int"
      ]
     },
     "metadata": {},
     "execution_count": 4
    }
   ],
   "metadata": {}
  },
  {
   "cell_type": "markdown",
   "source": [
    "#### Question 3\n",
    "##### Create a `PrintHello` function so that it takes a name of a person as an argument and prints \"Hello, [name]!\".\n",
    "##### Call the function to test whether it is working properly. Try out a few different names. \n",
    "\n",
    "#### Answer:"
   ],
   "metadata": {}
  },
  {
   "cell_type": "code",
   "execution_count": 5,
   "source": [
    "def PrintHello(name:str):\n",
    "    print('Hello, ' + name + '!')\n",
    "    \n",
    "PrintHello('John')"
   ],
   "outputs": [
    {
     "output_type": "stream",
     "name": "stdout",
     "text": [
      "Hello, John!\n"
     ]
    }
   ],
   "metadata": {}
  },
  {
   "cell_type": "markdown",
   "source": [
    "#### Question 4\n",
    "##### Modify the function from Question 2 and name it `GetHelloMessage` so that it returns the message to be printed, but doesn't print it.\n",
    "##### Call the function, assign its output to a variable `output_message` and then print the `output_message`.\n",
    "\n",
    "#### Answer:"
   ],
   "metadata": {}
  },
  {
   "cell_type": "code",
   "execution_count": 6,
   "source": [
    "def GetHelloMessage(name:str):\n",
    "    return 'Hello, ' + name + '!'\n",
    "    \n",
    "output_message = GetHelloMessage('John')\n",
    "print(output_message)"
   ],
   "outputs": [
    {
     "output_type": "stream",
     "name": "stdout",
     "text": [
      "Hello, John!\n"
     ]
    }
   ],
   "metadata": {}
  },
  {
   "cell_type": "markdown",
   "source": [
    "#### Question 5\n",
    "##### Create a function called `find_range()` that takes a parameter `x`.\n",
    "##### Return two numbers `x-10` and `x+10`.\n",
    "##### Call the function by passing 25 to the function.\n",
    "\n",
    "#### Answer:"
   ],
   "metadata": {}
  },
  {
   "cell_type": "code",
   "execution_count": 13,
   "source": [
    "def find_range(x):\n",
    "    return (x-10, x+10)\n",
    "\n",
    "find_range(25)"
   ],
   "outputs": [
    {
     "output_type": "error",
     "ename": "SyntaxError",
     "evalue": "invalid syntax (1482251171.py, line 4)",
     "traceback": [
      "\u001b[0;36m  File \u001b[0;32m\"/tmp/ipykernel_58661/1482251171.py\"\u001b[0;36m, line \u001b[0;32m4\u001b[0m\n\u001b[0;31m    print([x-10, x+10 for x])\u001b[0m\n\u001b[0m                      ^\u001b[0m\n\u001b[0;31mSyntaxError\u001b[0m\u001b[0;31m:\u001b[0m invalid syntax\n"
     ]
    }
   ],
   "metadata": {}
  },
  {
   "cell_type": "markdown",
   "source": [
    "#### Question 6\n",
    "##### Create a function named `find_sum` that takes two parameters `a` and `b` and returns their sum.\n",
    "##### Let `a` have a default value equal to 3 and `b` have a default value equal to 2.\n",
    "##### Call the function without providing any arguments. What value do you get as a result?\n",
    "##### Call the function by giving it the 2 arguments: 7 and 10.\n",
    "##### Call the function providing a single argument 9 to the function. What value do you get in return?\n",
    "\n",
    "#### Answer:"
   ],
   "metadata": {}
  },
  {
   "cell_type": "code",
   "execution_count": 8,
   "source": [
    "def find_sum(a=3, b=2):\n",
    "    return a + b\n",
    "\n",
    "print(find_sum())\n",
    "print(find_sum(7,10))\n",
    "print(find_sum(9))"
   ],
   "outputs": [
    {
     "output_type": "stream",
     "name": "stdout",
     "text": [
      "5\n",
      "17\n",
      "11\n"
     ]
    }
   ],
   "metadata": {}
  },
  {
   "cell_type": "markdown",
   "source": [
    "#### Question 7\n",
    "##### Create an anonymous function that returns a reversed string and assign it to `palindrome` variable.\n",
    "##### Call the function and use \"No lemon, no melon\" as the input and print the result.\n",
    "\n",
    "#### Answer:"
   ],
   "metadata": {}
  },
  {
   "cell_type": "code",
   "execution_count": 21,
   "source": [
    "palindrome = lambda v : v[::-1]\n",
    "\n",
    "message = \"No lemon, no melon\"\n",
    "# m_palindrome = ''.join([x for x in message if x == x[::-1]])\n",
    "m_palindrome = ''.join([x for x in message[::-1]])\n",
    "print(m_palindrome)\n",
    "print(palindrome(\"No lemon, no melon\"))\n",
    "\n"
   ],
   "outputs": [
    {
     "output_type": "stream",
     "name": "stdout",
     "text": [
      "nolem on ,nomel oN\n",
      "nolem on ,nomel oN\n"
     ]
    }
   ],
   "metadata": {}
  },
  {
   "cell_type": "markdown",
   "source": [
    "#### Question 8\n",
    "##### Create a function called `factorial` which returns the factorial value of the given number `x`.\n",
    "##### Call the function to print the factorial of 5, try a few other values.\n",
    "##### _Hint: 4 factorial (4!) = 4 x 3 x 2 x 1 = 24._\n",
    "\n",
    "#### Answer:"
   ],
   "metadata": {}
  },
  {
   "cell_type": "code",
   "execution_count": 11,
   "source": [
    "def factorial(x):\n",
    "    result = 1\n",
    "    while x > 0:\n",
    "        result = x * result\n",
    "        x = x - 1\n",
    "    return result\n",
    "\n",
    "factorial(4)"
   ],
   "outputs": [
    {
     "output_type": "execute_result",
     "data": {
      "text/plain": [
       "24"
      ]
     },
     "metadata": {},
     "execution_count": 11
    }
   ],
   "metadata": {}
  },
  {
   "cell_type": "code",
   "execution_count": 12,
   "source": [
    "def factorial(x):\n",
    "    if x <= 1:\n",
    "        return 1\n",
    "    return x * factorial(x-1)\n",
    "\n",
    "factorial(4)"
   ],
   "outputs": [
    {
     "output_type": "execute_result",
     "data": {
      "text/plain": [
       "24"
      ]
     },
     "metadata": {},
     "execution_count": 12
    }
   ],
   "metadata": {}
  }
 ],
 "metadata": {
  "kernelspec": {
   "name": "python3",
   "display_name": "Python 3.8.10 64-bit"
  },
  "language_info": {
   "name": "python",
   "version": "3.9.7",
   "mimetype": "text/x-python",
   "codemirror_mode": {
    "name": "ipython",
    "version": 3
   },
   "pygments_lexer": "ipython3",
   "nbconvert_exporter": "python",
   "file_extension": ".py"
  },
  "interpreter": {
   "hash": "7baa2613bd81bb075eec3c961d438573e3cd8a0504fd498db51a3642c787a45e"
  }
 },
 "nbformat": 4,
 "nbformat_minor": 4
}